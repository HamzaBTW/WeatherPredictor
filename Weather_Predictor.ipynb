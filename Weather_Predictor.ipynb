{
  "nbformat": 4,
  "nbformat_minor": 0,
  "metadata": {
    "colab": {
      "provenance": [],
      "authorship_tag": "ABX9TyNqh+6H1T7s7pKl21m56/5G",
      "include_colab_link": true
    },
    "kernelspec": {
      "name": "python3",
      "display_name": "Python 3"
    },
    "language_info": {
      "name": "python"
    }
  },
  "cells": [
    {
      "cell_type": "markdown",
      "metadata": {
        "id": "view-in-github",
        "colab_type": "text"
      },
      "source": [
        "<a href=\"https://colab.research.google.com/github/HamzaBTW/WeatherPredictor/blob/main/Weather_Predictor.ipynb\" target=\"_parent\"><img src=\"https://colab.research.google.com/assets/colab-badge.svg\" alt=\"Open In Colab\"/></a>"
      ]
    },
    {
      "cell_type": "code",
      "execution_count": null,
      "metadata": {
        "id": "hNlZivVyk0rs"
      },
      "outputs": [],
      "source": [
        "import pandas as pd\n",
        "from sklearn.linear_model import Ridge\n",
        "from sklearn.metrics import mean_absolute_error\n",
        "\n",
        "# Load and clean the weather data\n",
        "weather = pd.read_csv(\"3776964.csv\", index_col=\"DATE\")\n",
        "core_weather = weather[[\"PRCP\", \"TMAX\", \"TMIN\"]].copy()\n",
        "\n",
        "# Fill missing values\n",
        "core_weather[\"PRCP\"] = core_weather[\"PRCP\"].fillna(0)\n",
        "core_weather = core_weather.fillna(method=\"ffill\")\n",
        "\n",
        "# Convert index to datetime\n",
        "core_weather.index = pd.to_datetime(core_weather.index)\n",
        "\n",
        "# Create target column for prediction\n",
        "core_weather[\"target\"] = core_weather.shift(-1)[\"TMAX\"]\n",
        "core_weather = core_weather.iloc[:-1, :].copy()\n",
        "\n",
        "# Define a function to create predictions\n",
        "def create_predictions(predictors, core_weather, reg):\n",
        "    train = core_weather.loc[:\"2020-12-31\"]\n",
        "    test = core_weather.loc[\"2021-01-01\":]\n",
        "    reg.fit(train[predictors], train[\"target\"])\n",
        "    predictions = reg.predict(test[predictors])\n",
        "    error = mean_absolute_error(test[\"target\"], predictions)\n",
        "    combined = pd.concat([test[\"target\"], pd.Series(predictions, index=test.index)], axis=1)\n",
        "    combined.columns = [\"actual\", \"predictions\"]\n",
        "    return error, combined\n",
        "\n",
        "# Add additional features\n",
        "core_weather[\"month_max\"] = core_weather[\"TMAX\"].rolling(30).mean()\n",
        "core_weather[\"month_day_max\"] = core_weather[\"month_max\"] / core_weather[\"TMAX\"]\n",
        "core_weather[\"max_min\"] = core_weather[\"TMAX\"] / core_weather[\"TMIN\"]\n",
        "\n",
        "# Drop initial rows with NaNs from rolling windows\n",
        "core_weather = core_weather.iloc[30:, :].copy()\n",
        "\n",
        "# Add more seasonal features\n",
        "core_weather[\"monthly_avg\"] = core_weather[\"TMAX\"].groupby(core_weather.index.month).transform(lambda x: x.expanding(1).mean())\n",
        "core_weather[\"day_of_year_avg\"] = core_weather[\"TMAX\"].groupby(core_weather.index.day_of_year).transform(lambda x: x.expanding(1).mean())\n",
        "\n",
        "# Define predictors and create predictions\n",
        "predictors = [\"PRCP\", \"TMAX\", \"TMIN\", \"month_max\", \"month_day_max\", \"max_min\", \"day_of_year_avg\", \"monthly_avg\"]\n",
        "reg = Ridge(alpha=0.1)\n",
        "error, combined = create_predictions(predictors, core_weather, reg)\n",
        "\n",
        "# Output error and plot results\n",
        "print(\"Mean Absolute Error:\", error)\n",
        "combined.plot()"
      ]
    }
  ]
}